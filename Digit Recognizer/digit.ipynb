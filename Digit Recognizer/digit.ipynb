{
 "cells": [
  {
   "cell_type": "markdown",
   "metadata": {},
   "source": [
    "### Load everything"
   ]
  },
  {
   "cell_type": "code",
   "execution_count": 28,
   "metadata": {
    "collapsed": true
   },
   "outputs": [],
   "source": [
    "# Import the libraries\n",
    "import pandas as pd\n",
    "import numpy as np\n",
    "import matplotlib.pyplot as plt\n",
    "from PIL import Image, ImageChops\n",
    "from sklearn.model_selection import train_test_split, GridSearchCV\n",
    "from sklearn.preprocessing import StandardScaler\n",
    "from sklearn.linear_model import LogisticRegression\n",
    "from sklearn.neighbors import KNeighborsClassifier\n",
    "from sklearn.svm import SVC\n",
    "from sklearn.gaussian_process import GaussianProcessClassifier\n",
    "from sklearn.tree import DecisionTreeClassifier\n",
    "from sklearn.neural_network import MLPClassifier\n",
    "from sklearn.naive_bayes import GaussianNB\n",
    "from sklearn.discriminant_analysis import LinearDiscriminantAnalysis, QuadraticDiscriminantAnalysis\n",
    "from sklearn.ensemble import RandomForestClassifier, AdaBoostClassifier, GradientBoostingClassifier\n",
    "from sklearn.metrics import make_scorer, confusion_matrix, accuracy_score, recall_score, precision_score, classification_report"
   ]
  },
  {
   "cell_type": "code",
   "execution_count": 98,
   "metadata": {},
   "outputs": [
    {
     "name": "stdout",
     "output_type": "stream",
     "text": [
      "   label  pixel0  pixel1  pixel2  pixel3  pixel4  pixel5  pixel6  pixel7  \\\n",
      "0      1       0       0       0       0       0       0       0       0   \n",
      "1      0       0       0       0       0       0       0       0       0   \n",
      "2      1       0       0       0       0       0       0       0       0   \n",
      "3      4       0       0       0       0       0       0       0       0   \n",
      "4      0       0       0       0       0       0       0       0       0   \n",
      "\n",
      "   pixel8    ...     pixel774  pixel775  pixel776  pixel777  pixel778  \\\n",
      "0       0    ...            0         0         0         0         0   \n",
      "1       0    ...            0         0         0         0         0   \n",
      "2       0    ...            0         0         0         0         0   \n",
      "3       0    ...            0         0         0         0         0   \n",
      "4       0    ...            0         0         0         0         0   \n",
      "\n",
      "   pixel779  pixel780  pixel781  pixel782  pixel783  \n",
      "0         0         0         0         0         0  \n",
      "1         0         0         0         0         0  \n",
      "2         0         0         0         0         0  \n",
      "3         0         0         0         0         0  \n",
      "4         0         0         0         0         0  \n",
      "\n",
      "[5 rows x 785 columns]\n"
     ]
    }
   ],
   "source": [
    "# Read the data files\n",
    "train_data = pd.read_csv(\"data/train.csv\")\n",
    "test_data = pd.read_csv(\"data/test.csv\")\n",
    "\n",
    "print(train_data.head())"
   ]
  },
  {
   "cell_type": "code",
   "execution_count": 99,
   "metadata": {},
   "outputs": [
    {
     "name": "stdout",
     "output_type": "stream",
     "text": [
      "(42000, 784)\n",
      "(42000,)\n"
     ]
    }
   ],
   "source": [
    "# Slice the data and create X, y and test_data\n",
    "X = train_data.ix[:, 1:].values\n",
    "y = train_data.ix[:, 0].values\n",
    "test_data = test_data.values\n",
    "\n",
    "print(X.shape)\n",
    "print(y.shape)"
   ]
  },
  {
   "cell_type": "code",
   "execution_count": 103,
   "metadata": {},
   "outputs": [
    {
     "data": {
      "image/png": "[encoded data removed]",
      "text/plain": [
       "<matplotlib.figure.Figure at 0x15901d7be10>"
      ]
     },
     "metadata": {},
     "output_type": "display_data"
    }
   ],
   "source": [
    "# Visualize a digit\n",
    "%matplotlib inline\n",
    "\n",
    "fig, ax = plt.subplots(ncols=2, figsize=(8,8))\n",
    "ax1, ax2 = ax\n",
    "\n",
    "original_im = X[7].reshape((int(np.sqrt(X[7].shape[0])), int(np.sqrt(X[7].shape[0]))))\n",
    "new_im = Image.fromarray(original_im.astype('uint8')).convert(\"1\") # Convert the values to 8-bit and convert the image to 1-bit black and white\n",
    "new_im = ImageChops.invert(new_im)\n",
    "\n",
    "ax1.imshow(original_im)\n",
    "ax2.imshow(new_im)\n",
    "ax1.set_title(\"Original Image\")\n",
    "ax2.set_title(\"Modified Image\")\n",
    "plt.show()"
   ]
  },
  {
   "cell_type": "code",
   "execution_count": 104,
   "metadata": {
    "collapsed": true
   },
   "outputs": [],
   "source": [
    "# Preprocess the images\n",
    "def image_preprocessing(arr):\n",
    "    arr = arr.reshape((int(np.sqrt(arr.shape[0])), int(np.sqrt(arr.shape[0])))).astype('uint8')\n",
    "    im = Image.fromarray(arr).convert(\"1\") # Convert the values to 8-bit and convert the image to 1-bit black and white\n",
    "    im = ImageChops.invert(im)\n",
    "    new_arr = np.array(im.getdata())\n",
    "    return new_arr\n",
    "    \n",
    "X = np.apply_along_axis(image_preprocessing, 1, X)\n",
    "test_data = np.apply_along_axis(image_preprocessing, 1, test_data)"
   ]
  },
  {
   "cell_type": "code",
   "execution_count": 105,
   "metadata": {},
   "outputs": [
    {
     "data": {
      "image/png": "[encoded data removed]",
      "text/plain": [
       "<matplotlib.figure.Figure at 0x1592a83a320>"
      ]
     },
     "metadata": {},
     "output_type": "display_data"
    }
   ],
   "source": [
    "# Verify the images\n",
    "fig, ax = plt.subplots(ncols=2, figsize=(8,8))\n",
    "ax1, ax2 = ax\n",
    "\n",
    "ax1.imshow(Image.fromarray(X[7].reshape((int(np.sqrt(X[7].shape[0])), int(np.sqrt(X[7].shape[0]))))))\n",
    "ax2.imshow(Image.fromarray(test_data[7].reshape((int(np.sqrt(test_data[7].shape[0])), int(np.sqrt(test_data[7].shape[0]))))))\n",
    "ax1.set_title(\"Train Image\")\n",
    "ax2.set_title(\"Test Image\")\n",
    "plt.show()"
   ]
  },
  {
   "cell_type": "markdown",
   "metadata": {},
   "source": [
    "### Preprocessing"
   ]
  },
  {
   "cell_type": "code",
   "execution_count": 106,
   "metadata": {},
   "outputs": [
    {
     "name": "stderr",
     "output_type": "stream",
     "text": [
      "c:\\program files\\python35\\lib\\site-packages\\sklearn\\utils\\validation.py:429: DataConversionWarning: Data with input dtype int32 was converted to float64 by StandardScaler.\n",
      "  warnings.warn(msg, _DataConversionWarning)\n"
     ]
    }
   ],
   "source": [
    "# Scale the data\n",
    "X_scale = StandardScaler()\n",
    "\n",
    "X = X_scale.fit_transform(X)\n",
    "test_data = X_scale.transform(test_data)"
   ]
  },
  {
   "cell_type": "markdown",
   "metadata": {},
   "source": [
    "### Model Selection"
   ]
  },
  {
   "cell_type": "code",
   "execution_count": 107,
   "metadata": {},
   "outputs": [
    {
     "name": "stdout",
     "output_type": "stream",
     "text": [
      "(33600, 784) (8400, 784)\n",
      "(33600,) (8400,)\n"
     ]
    }
   ],
   "source": [
    "# Split partial data into train and test sets\n",
    "X_train, X_test, y_train, y_test = train_test_split(X, y, test_size=0.2, random_state=3)\n",
    "\n",
    "print(X_train.shape, X_test.shape)\n",
    "print(y_train.shape, y_test.shape)"
   ]
  },
  {
   "cell_type": "code",
   "execution_count": null,
   "metadata": {
    "collapsed": true
   },
   "outputs": [],
   "source": [
    "# Select model/classifier\n",
    "names = [\n",
    "    \"Logistic Regression\",\n",
    "    \"Nearest Neighbors\",\n",
    "    \"Linear SVM\",\n",
    "    \"RBF SVM\",\n",
    "    \"Gaussian Process\",\n",
    "    \"Decision Tree\",\n",
    "    \"Random Forest\",\n",
    "    \"Neural Net\",\n",
    "    \"AdaBoost\",\n",
    "    \"Naive Bayes\",\n",
    "    \"LDA\",\n",
    "    \"QDA\",\n",
    "    \"GBC\"\n",
    "]\n",
    "\n",
    "classifiers = [\n",
    "    LogisticRegression(),\n",
    "    KNeighborsClassifier(3),\n",
    "    SVC(kernel=\"linear\", C=0.025, random_state=3),\n",
    "    SVC(gamma=2, C=1, random_state=3),\n",
    "    GaussianProcessClassifier(warm_start=True, random_state=3),\n",
    "    DecisionTreeClassifier(max_depth=5, random_state=3),\n",
    "    RandomForestClassifier(max_depth=5, n_estimators=100, random_state=3),\n",
    "    MLPClassifier(alpha=1, max_iter=5000, random_state=3),\n",
    "    AdaBoostClassifier(random_state=3),\n",
    "    GaussianNB(),\n",
    "    LinearDiscriminantAnalysis(),\n",
    "    QuadraticDiscriminantAnalysis(),\n",
    "    GradientBoostingClassifier(random_state=3)\n",
    "]\n",
    "\n",
    "for name, clf in zip(names, classifiers):\n",
    "    clf.fit(X_train, y_train)\n",
    "    y_pred = clf.predict(X_test)\n",
    "    score = recall_score(y_pred, y_test, average=\"micro\")\n",
    "    print(\"{}: {}\".format(name, score))"
   ]
  },
  {
   "cell_type": "markdown",
   "metadata": {},
   "source": [
    "### Model Creation"
   ]
  },
  {
   "cell_type": "code",
   "execution_count": 119,
   "metadata": {
    "scrolled": true
   },
   "outputs": [
    {
     "data": {
      "text/plain": [
       "SVC(C=1.0, cache_size=200, class_weight=None, coef0=0.0,\n",
       "  decision_function_shape=None, degree=3, gamma='auto', kernel='linear',\n",
       "  max_iter=-1, probability=False, random_state=None, shrinking=True,\n",
       "  tol=0.001, verbose=False)"
      ]
     },
     "execution_count": 119,
     "metadata": {},
     "output_type": "execute_result"
    }
   ],
   "source": [
    "# Create the final model/classifier for test\n",
    "clf = RandomForestClassifier(500, random_state=3)\n",
    "clf.fit(X_train, y_train)"
   ]
  },
  {
   "cell_type": "code",
   "execution_count": 120,
   "metadata": {
    "scrolled": true
   },
   "outputs": [
    {
     "name": "stdout",
     "output_type": "stream",
     "text": [
      "Accuracy: 91.0%\n",
      "Confusion Matrix: \n",
      "[[786   0   1   0   1   5   6   0   6   1]\n",
      " [  0 866   5   1   0   1   3   4   5   1]\n",
      " [  6   8 731  14   8   2   9  17  14   1]\n",
      " [  6   5  28 765   1  34   0   7  10   4]\n",
      " [  0   3  17   3 768   0   5   3   0  33]\n",
      " [ 12   8   5  57   4 670  15   0  17   2]\n",
      " [ 11   2   7   2   7  10 785   0   2   0]\n",
      " [  0   5   7   9   7   0   1 854   2  24]\n",
      " [ 15  26  15  26   6  23   5   1 688  10]\n",
      " [  4   2   1   9  39   6   0  30   4 771]]\n",
      "Classification Report: \n",
      "             precision    recall  f1-score   support\n",
      "\n",
      "          0       0.94      0.98      0.96       806\n",
      "          1       0.94      0.98      0.96       886\n",
      "          2       0.89      0.90      0.90       810\n",
      "          3       0.86      0.89      0.88       860\n",
      "          4       0.91      0.92      0.92       832\n",
      "          5       0.89      0.85      0.87       790\n",
      "          6       0.95      0.95      0.95       826\n",
      "          7       0.93      0.94      0.94       909\n",
      "          8       0.92      0.84      0.88       815\n",
      "          9       0.91      0.89      0.90       866\n",
      "\n",
      "avg / total       0.91      0.91      0.91      8400\n",
      "\n"
     ]
    }
   ],
   "source": [
    "# Compute accuracy and create confusion matrix\n",
    "y_pred = clf.predict(X_test)\n",
    "accuracy = accuracy_score(y_test, y_pred)\n",
    "cm = confusion_matrix(y_test, y_pred)\n",
    "cr = classification_report(y_test, y_pred)\n",
    "\n",
    "print(\"Accuracy: {}%\".format(round(accuracy*100), 1))\n",
    "print(\"Confusion Matrix: \")\n",
    "print(cm)\n",
    "print(\"Classification Report: \")\n",
    "print(cr)"
   ]
  },
  {
   "cell_type": "markdown",
   "metadata": {},
   "source": [
    "### Prediction"
   ]
  },
  {
   "cell_type": "code",
   "execution_count": 123,
   "metadata": {
    "scrolled": true
   },
   "outputs": [
    {
     "data": {
      "text/plain": [
       "RandomForestClassifier(bootstrap=True, class_weight=None, criterion='gini',\n",
       "            max_depth=None, max_features='auto', max_leaf_nodes=None,\n",
       "            min_impurity_split=1e-07, min_samples_leaf=1,\n",
       "            min_samples_split=2, min_weight_fraction_leaf=0.0,\n",
       "            n_estimators=100, n_jobs=1, oob_score=False, random_state=3,\n",
       "            verbose=0, warm_start=False)"
      ]
     },
     "execution_count": 123,
     "metadata": {},
     "output_type": "execute_result"
    }
   ],
   "source": [
    "# Create the final model/classifier for prediction\n",
    "clf = RandomForestClassifier(500, random_state=3)\n",
    "clf.fit(X, y)"
   ]
  },
  {
   "cell_type": "code",
   "execution_count": 124,
   "metadata": {},
   "outputs": [],
   "source": [
    "# Predict and save the predicted data to csv\n",
    "prediction = clf.predict(test_data)\n",
    "prediction = pd.DataFrame({\"ImageId\": range(1, len(prediction)+1), \"Label\": prediction})\n",
    "prediction.to_csv(\"data/prediction.csv\", index=None)"
   ]
  },
  {
   "cell_type": "markdown",
   "metadata": {},
   "source": [
    "### Kaggle Accuracy Result: 96.7% (0.96714)"
   ]
  }
 ],
 "metadata": {
  "kernelspec": {
   "display_name": "Python 3",
   "language": "python",
   "name": "python3"
  },
  "language_info": {
   "codemirror_mode": {
    "name": "ipython",
    "version": 3
   },
   "file_extension": ".py",
   "mimetype": "text/x-python",
   "name": "python",
   "nbconvert_exporter": "python",
   "pygments_lexer": "ipython3",
   "version": "3.5.2"
  }
 },
 "nbformat": 4,
 "nbformat_minor": 2
}
