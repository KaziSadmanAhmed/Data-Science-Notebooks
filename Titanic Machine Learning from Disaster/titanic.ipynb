{
 "cells": [
  {
   "cell_type": "markdown",
   "metadata": {},
   "source": [
    "### Load everything"
   ]
  },
  {
   "cell_type": "code",
   "execution_count": 136,
   "metadata": {
    "collapsed": true
   },
   "outputs": [],
   "source": [
    "# Import the libraries\n",
    "import pandas as pd\n",
    "import numpy as np\n",
    "import seaborn as sns\n",
    "import matplotlib.pyplot as plt\n",
    "from sklearn.model_selection import train_test_split, GridSearchCV\n",
    "from sklearn.preprocessing import Imputer, LabelEncoder, OneHotEncoder, StandardScaler\n",
    "from sklearn.linear_model import LogisticRegression\n",
    "from sklearn.neighbors import KNeighborsClassifier\n",
    "from sklearn.svm import SVC\n",
    "from sklearn.gaussian_process import GaussianProcessClassifier\n",
    "from sklearn.tree import DecisionTreeClassifier\n",
    "from sklearn.neural_network import MLPClassifier\n",
    "from sklearn.naive_bayes import GaussianNB\n",
    "from sklearn.discriminant_analysis import QuadraticDiscriminantAnalysis\n",
    "from sklearn.ensemble import RandomForestClassifier, AdaBoostClassifier, GradientBoostingClassifier\n",
    "from sklearn.metrics import confusion_matrix, accuracy_score, recall_score, classification_report"
   ]
  },
  {
   "cell_type": "code",
   "execution_count": 137,
   "metadata": {
    "collapsed": true
   },
   "outputs": [],
   "source": [
    "# Read the data files\n",
    "train_data = pd.read_csv(\"data/train.csv\", index_col=0)\n",
    "test_data = pd.read_csv(\"data/test.csv\", index_col=0)"
   ]
  },
  {
   "cell_type": "code",
   "execution_count": 138,
   "metadata": {
    "collapsed": true
   },
   "outputs": [],
   "source": [
    "# Select the features\n",
    "feature_cols = [\"Pclass\", \"Sex\", \"Age\", \"SibSp\", \"Parch\", \"Fare\", \"Embarked\"]"
   ]
  },
  {
   "cell_type": "code",
   "execution_count": 139,
   "metadata": {},
   "outputs": [
    {
     "name": "stdout",
     "output_type": "stream",
     "text": [
      "             Pclass     Sex   Age  SibSp  Parch     Fare Embarked\n",
      "PassengerId                                                      \n",
      "1                 3    male  22.0      1      0   7.2500        S\n",
      "2                 1  female  38.0      1      0  71.2833        C\n",
      "3                 3  female  26.0      0      0   7.9250        S\n",
      "4                 1  female  35.0      1      0  53.1000        S\n",
      "5                 3    male  35.0      0      0   8.0500        S\n",
      "             Pclass     Sex   Age  SibSp  Parch     Fare Embarked\n",
      "PassengerId                                                      \n",
      "892               3    male  34.5      0      0   7.8292        Q\n",
      "893               3  female  47.0      1      0   7.0000        S\n",
      "894               2    male  62.0      0      0   9.6875        Q\n",
      "895               3    male  27.0      0      0   8.6625        S\n",
      "896               3  female  22.0      1      1  12.2875        S\n"
     ]
    }
   ],
   "source": [
    "# Slice the data and create X, y and test_data\n",
    "X = train_data.loc[:, feature_cols]\n",
    "y = train_data[\"Survived\"]\n",
    "test_data = test_data.loc[:, feature_cols]\n",
    "test_data_passenger_ids = test_data.index # We will need this later to save as csv\n",
    "\n",
    "print(X.head())\n",
    "print(test_data.head())"
   ]
  },
  {
   "cell_type": "markdown",
   "metadata": {},
   "source": [
    "### Preprocessing"
   ]
  },
  {
   "cell_type": "code",
   "execution_count": 140,
   "metadata": {
    "collapsed": true
   },
   "outputs": [],
   "source": [
    "# Fill the missing data with the mean of corresponding series\n",
    "age_imputer = Imputer()\n",
    "fare_imputer = Imputer()\n",
    "\n",
    "X[\"Age\"] = age_imputer.fit_transform(X[\"Age\"].values.reshape((len(X), 1)))\n",
    "test_data[\"Age\"] = age_imputer.transform(test_data[\"Age\"].values.reshape((len(test_data), 1)))\n",
    "\n",
    "fare_imputer.fit(X[\"Fare\"].values.reshape((len(X), 1)))\n",
    "test_data[\"Fare\"] = fare_imputer.transform(test_data[\"Fare\"].values.reshape((len(test_data), 1)))"
   ]
  },
  {
   "cell_type": "code",
   "execution_count": 141,
   "metadata": {
    "collapsed": true
   },
   "outputs": [],
   "source": [
    "# Encode the labels to numeric values\n",
    "le_sex = LabelEncoder()\n",
    "le_embarked = LabelEncoder()\n",
    "\n",
    "X[\"Sex\"] = le_sex.fit_transform(X[\"Sex\"])\n",
    "X[\"Embarked\"] = le_embarked.fit_transform(X[\"Embarked\"].apply(str))\n",
    "\n",
    "test_data[\"Sex\"] = le_sex.transform(test_data[\"Sex\"])\n",
    "test_data[\"Embarked\"] = le_embarked.transform(test_data[\"Embarked\"].apply(str))"
   ]
  },
  {
   "cell_type": "markdown",
   "metadata": {},
   "source": [
    "## Feature Selection"
   ]
  },
  {
   "cell_type": "code",
   "execution_count": 142,
   "metadata": {},
   "outputs": [
    {
     "data": {
      "image/png": "[encoded data removed]",
      "text/plain": [
       "<matplotlib.figure.Figure at 0x2786d26c0f0>"
      ]
     },
     "metadata": {},
     "output_type": "display_data"
    }
   ],
   "source": [
    "# Correlation and heatmap\n",
    "%matplotlib inline\n",
    "\n",
    "corr = X.corr()\n",
    "fig = plt.figure(figsize=(11, 8))\n",
    "sns.heatmap(corr, figure=fig)\n",
    "plt.show()"
   ]
  },
  {
   "cell_type": "code",
   "execution_count": 143,
   "metadata": {
    "collapsed": true
   },
   "outputs": [],
   "source": [
    "# Create dummy variables and remove the optional one\n",
    "embarked_ohe = OneHotEncoder(categorical_features=[-1])\n",
    "\n",
    "X = embarked_ohe.fit_transform(X).toarray()[:, 1:]\n",
    "test_data = embarked_ohe.transform(test_data).toarray()[:, 1:]"
   ]
  },
  {
   "cell_type": "code",
   "execution_count": 144,
   "metadata": {
    "collapsed": true
   },
   "outputs": [],
   "source": [
    "# Scale the data\n",
    "X_scale = StandardScaler()\n",
    "\n",
    "X = X_scale.fit_transform(X)\n",
    "test_data = X_scale.transform(test_data)"
   ]
  },
  {
   "cell_type": "code",
   "execution_count": 145,
   "metadata": {},
   "outputs": [
    {
     "name": "stdout",
     "output_type": "stream",
     "text": [
      "[ 0.00623972  0.01902158  0.          0.08406742  0.29092393  0.25536967\n",
      "  0.04515501  0.02662838  0.27259427]\n"
     ]
    }
   ],
   "source": [
    "# Feature selection\n",
    "clf = RandomForestClassifier(random_state=3)\n",
    "clf.fit(X, y)\n",
    "print(clf.feature_importances_)\n",
    "\n",
    "new_feature_cols = [3, 4, 5, 6, 7, 8] # Pclass, Sex, Age, SibSp, Parch, Fare\n",
    "\n",
    "X = X[:, new_feature_cols]\n",
    "test_data = test_data[:, new_feature_cols]"
   ]
  },
  {
   "cell_type": "markdown",
   "metadata": {},
   "source": [
    "## Hyperparameter Optimization"
   ]
  },
  {
   "cell_type": "code",
   "execution_count": 146,
   "metadata": {
    "collapsed": true
   },
   "outputs": [],
   "source": [
    "# Split the data\n",
    "X_train, X_test, y_train, y_test = train_test_split(X, y, test_size=0.2, random_state=3)"
   ]
  },
  {
   "cell_type": "code",
   "execution_count": 147,
   "metadata": {},
   "outputs": [
    {
     "name": "stdout",
     "output_type": "stream",
     "text": [
      "Logistic Regression 0.68\n",
      "Nearest Neighbors 0.722222222222\n",
      "Linear SVM 0.716216216216\n",
      "RBF SVM 0.674698795181\n",
      "Gaussian Process 0.746478873239\n",
      "Decision Tree 0.786885245902\n",
      "Random Forest 0.704225352113\n",
      "Neural Net 0.72602739726\n",
      "AdaBoost 0.670886075949\n",
      "Naive Bayes 0.657534246575\n",
      "QDA 0.722222222222\n",
      "GBC 0.761904761905\n"
     ]
    }
   ],
   "source": [
    "# Select model/classifier\n",
    "names = [\n",
    "    \"Logistic Regression\",\n",
    "    \"Nearest Neighbors\",\n",
    "    \"Linear SVM\",\n",
    "    \"RBF SVM\",\n",
    "    \"Gaussian Process\",\n",
    "    \"Decision Tree\",\n",
    "    \"Random Forest\",\n",
    "    \"Neural Net\",\n",
    "    \"AdaBoost\",\n",
    "    \"Naive Bayes\",\n",
    "    \"QDA\",\n",
    "    \"GBC\"\n",
    "]\n",
    "\n",
    "classifiers = [\n",
    "    LogisticRegression(),\n",
    "    KNeighborsClassifier(3),\n",
    "    SVC(kernel=\"linear\", C=0.025, random_state=3),\n",
    "    SVC(gamma=2, C=1, random_state=3),\n",
    "    GaussianProcessClassifier(warm_start=True, random_state=3),\n",
    "    DecisionTreeClassifier(max_depth=5, random_state=3),\n",
    "    RandomForestClassifier(max_depth=5, n_estimators=100, random_state=3),\n",
    "    MLPClassifier(alpha=1, random_state=3),\n",
    "    AdaBoostClassifier(random_state=3),\n",
    "    GaussianNB(),\n",
    "    QuadraticDiscriminantAnalysis(),\n",
    "    GradientBoostingClassifier(random_state=3)\n",
    "]\n",
    "\n",
    "for name, clf in zip(names, classifiers):\n",
    "    clf.fit(X_train, y_train)\n",
    "    y_pred = clf.predict(X_test)\n",
    "    accuracy = recall_score(y_pred, y_test)\n",
    "    print(name, accuracy)\n"
   ]
  },
  {
   "cell_type": "code",
   "execution_count": 184,
   "metadata": {},
   "outputs": [
    {
     "data": {
      "text/plain": [
       "GridSearchCV(cv=3, error_score='raise',\n",
       "       estimator=GradientBoostingClassifier(criterion='friedman_mse', init=None,\n",
       "              learning_rate=0.1, loss='deviance', max_depth=3,\n",
       "              max_features=None, max_leaf_nodes=None,\n",
       "              min_impurity_split=1e-07, min_samples_leaf=1,\n",
       "              min_samples_split=2, min_weight_fraction_leaf=0.0,\n",
       "              n_estimators=100, presort='auto', random_state=None,\n",
       "              subsample=1.0, verbose=0, warm_start=False),\n",
       "       fit_params={}, iid=True, n_jobs=-1,\n",
       "       param_grid={'learning_rate': [0.05, 0.1], 'n_estimators': array([ 100,  150,  200,  250,  300,  350,  400,  450,  500,  550,  600,\n",
       "        650,  700,  750,  800,  850,  900,  950, 1000]), 'loss': ['deviance', 'exponential'], 'max_depth': array([1, 2, 3, 4, 5]), 'random_state': [3]},\n",
       "       pre_dispatch='2*n_jobs', refit=True, return_train_score=True,\n",
       "       scoring='precision', verbose=0)"
      ]
     },
     "execution_count": 184,
     "metadata": {},
     "output_type": "execute_result"
    }
   ],
   "source": [
    "# Optimize hyperparameter\n",
    "clf = GradientBoostingClassifier()\n",
    "\n",
    "param_grid = {\n",
    "    \"loss\": [\"deviance\", \"exponential\"],\n",
    "    \"learning_rate\": [0.05, 0.1],\n",
    "    \"n_estimators\": np.arange(100, 1001, 50),\n",
    "    \"max_depth\": np.arange(1, 6, 1),\n",
    "    \"random_state\": [3]\n",
    "}\n",
    "\n",
    "grid = GridSearchCV(clf, param_grid, \"precision\", cv=3, n_jobs=-1) # Change the value of n_jobs to 1 if your computer is old\n",
    "grid.fit(X, y)"
   ]
  },
  {
   "cell_type": "code",
   "execution_count": 186,
   "metadata": {},
   "outputs": [
    {
     "name": "stdout",
     "output_type": "stream",
     "text": [
      "0.810640971931\n",
      "GradientBoostingClassifier(criterion='friedman_mse', init=None,\n",
      "              learning_rate=0.05, loss='deviance', max_depth=2,\n",
      "              max_features=None, max_leaf_nodes=None,\n",
      "              min_impurity_split=1e-07, min_samples_leaf=1,\n",
      "              min_samples_split=2, min_weight_fraction_leaf=0.0,\n",
      "              n_estimators=150, presort='auto', random_state=3,\n",
      "              subsample=1.0, verbose=0, warm_start=False)\n",
      "{'learning_rate': 0.05, 'random_state': 3, 'loss': 'deviance', 'max_depth': 2, 'n_estimators': 150}\n"
     ]
    }
   ],
   "source": [
    "# Print results\n",
    "\n",
    "print(grid.best_score_)\n",
    "print(grid.best_estimator_)\n",
    "print(grid.best_params_)"
   ]
  },
  {
   "cell_type": "markdown",
   "metadata": {},
   "source": [
    "## Final Model"
   ]
  },
  {
   "cell_type": "code",
   "execution_count": 188,
   "metadata": {},
   "outputs": [
    {
     "data": {
      "text/plain": [
       "GradientBoostingClassifier(criterion='friedman_mse', init=None,\n",
       "              learning_rate=0.05, loss='deviance', max_depth=2,\n",
       "              max_features=None, max_leaf_nodes=None,\n",
       "              min_impurity_split=1e-07, min_samples_leaf=1,\n",
       "              min_samples_split=2, min_weight_fraction_leaf=0.0,\n",
       "              n_estimators=150, presort='auto', random_state=3,\n",
       "              subsample=1.0, verbose=0, warm_start=False)"
      ]
     },
     "execution_count": 188,
     "metadata": {},
     "output_type": "execute_result"
    }
   ],
   "source": [
    "# Create the final model/classifier for test\n",
    "clf = GradientBoostingClassifier(**grid.best_params_)\n",
    "clf.fit(X_train, y_train)"
   ]
  },
  {
   "cell_type": "code",
   "execution_count": 189,
   "metadata": {
    "scrolled": true
   },
   "outputs": [
    {
     "name": "stdout",
     "output_type": "stream",
     "text": [
      "Accuracy: 78.0%\n",
      "Confusion Matrix: \n",
      "[[85 24]\n",
      " [16 54]]\n",
      "Classification Report: \n",
      "             precision    recall  f1-score   support\n",
      "\n",
      "          0       0.84      0.78      0.81       109\n",
      "          1       0.69      0.77      0.73        70\n",
      "\n",
      "avg / total       0.78      0.78      0.78       179\n",
      "\n"
     ]
    }
   ],
   "source": [
    "# Compute accuracy and create confusion matrix\n",
    "y_pred = clf.predict(X_test)\n",
    "accuracy = accuracy_score(y_test, y_pred)\n",
    "cm = confusion_matrix(y_test, y_pred)\n",
    "cr = classification_report(y_test, y_pred)\n",
    "\n",
    "print(\"Accuracy: {}%\".format(round(accuracy*100), 1))\n",
    "print(\"Confusion Matrix: \")\n",
    "print(cm)\n",
    "print(\"Classification Report: \")\n",
    "print(cr)"
   ]
  },
  {
   "cell_type": "code",
   "execution_count": 182,
   "metadata": {},
   "outputs": [
    {
     "data": {
      "text/plain": [
       "GradientBoostingClassifier(criterion='friedman_mse', init=None,\n",
       "              learning_rate=0.05, loss='deviance', max_depth=2,\n",
       "              max_features=None, max_leaf_nodes=None,\n",
       "              min_impurity_split=1e-07, min_samples_leaf=1,\n",
       "              min_samples_split=2, min_weight_fraction_leaf=0.0,\n",
       "              n_estimators=150, presort='auto', random_state=3,\n",
       "              subsample=1.0, verbose=0, warm_start=False)"
      ]
     },
     "execution_count": 182,
     "metadata": {},
     "output_type": "execute_result"
    }
   ],
   "source": [
    "# Create the final model/classifier for submission\n",
    "clf = GradientBoostingClassifier(**grid.best_params_)\n",
    "clf.fit(X, y)"
   ]
  },
  {
   "cell_type": "code",
   "execution_count": 183,
   "metadata": {
    "collapsed": true
   },
   "outputs": [],
   "source": [
    "# Save the predicted data as csv\n",
    "prediction = clf.predict(test_data)\n",
    "prediction = pd.DataFrame({\"PassengerId\": test_data_passenger_ids, \"Survived\": prediction})\n",
    "prediction.to_csv(\"data/prediction.csv\", index=None)"
   ]
  },
  {
   "cell_type": "markdown",
   "metadata": {},
   "source": [
    "### Kaggle Accuracy Result: 77.0% (0.77033)"
   ]
  }
 ],
 "metadata": {
  "kernelspec": {
   "display_name": "Python 3",
   "language": "python",
   "name": "python3"
  },
  "language_info": {
   "codemirror_mode": {
    "name": "ipython",
    "version": 3
   },
   "file_extension": ".py",
   "mimetype": "text/x-python",
   "name": "python",
   "nbconvert_exporter": "python",
   "pygments_lexer": "ipython3",
   "version": "3.5.2"
  }
 },
 "nbformat": 4,
 "nbformat_minor": 2
}
